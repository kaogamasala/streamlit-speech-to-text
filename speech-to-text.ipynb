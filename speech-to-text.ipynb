{
 "cells": [
  {
   "cell_type": "code",
   "execution_count": 1,
   "id": "essential-drive",
   "metadata": {},
   "outputs": [
    {
     "name": "stdout",
     "output_type": "stream",
     "text": [
      "Collecting google-cloud-speech\n",
      "  Downloading google_cloud_speech-2.6.0-py2.py3-none-any.whl (120 kB)\n",
      "\u001b[K     |████████████████████████████████| 120 kB 2.1 MB/s eta 0:00:01\n",
      "\u001b[?25hCollecting libcst>=0.2.5\n",
      "  Downloading libcst-0.3.19-py3-none-any.whl (513 kB)\n",
      "\u001b[K     |████████████████████████████████| 513 kB 1.6 MB/s eta 0:00:01\n",
      "\u001b[?25hCollecting google-api-core[grpc]<3.0.0dev,>=1.26.0\n",
      "  Downloading google_api_core-1.31.1-py2.py3-none-any.whl (93 kB)\n",
      "\u001b[K     |████████████████████████████████| 93 kB 2.1 MB/s eta 0:00:01\n",
      "\u001b[?25hRequirement already satisfied: packaging>=14.3 in /Users/suehiro/anaconda3/lib/python3.6/site-packages (from google-cloud-speech) (20.9)\n",
      "Collecting proto-plus>=1.4.0\n",
      "  Downloading proto_plus-1.19.0-py3-none-any.whl (42 kB)\n",
      "\u001b[K     |████████████████████████████████| 42 kB 1.8 MB/s eta 0:00:01\n",
      "\u001b[?25hRequirement already satisfied: six>=1.13.0 in /Users/suehiro/anaconda3/lib/python3.6/site-packages (from google-api-core[grpc]<3.0.0dev,>=1.26.0->google-cloud-speech) (1.15.0)\n",
      "Requirement already satisfied: pytz in /Users/suehiro/anaconda3/lib/python3.6/site-packages (from google-api-core[grpc]<3.0.0dev,>=1.26.0->google-cloud-speech) (2021.1)\n",
      "Requirement already satisfied: protobuf>=3.12.0 in /Users/suehiro/anaconda3/lib/python3.6/site-packages (from google-api-core[grpc]<3.0.0dev,>=1.26.0->google-cloud-speech) (3.17.3)\n",
      "Collecting googleapis-common-protos<2.0dev,>=1.6.0\n",
      "  Downloading googleapis_common_protos-1.53.0-py2.py3-none-any.whl (198 kB)\n",
      "\u001b[K     |████████████████████████████████| 198 kB 1.7 MB/s eta 0:00:01\n",
      "\u001b[?25hRequirement already satisfied: requests<3.0.0dev,>=2.18.0 in /Users/suehiro/anaconda3/lib/python3.6/site-packages (from google-api-core[grpc]<3.0.0dev,>=1.26.0->google-cloud-speech) (2.20.0)\n",
      "Collecting google-auth<2.0dev,>=1.25.0\n",
      "  Downloading google_auth-1.34.0-py2.py3-none-any.whl (152 kB)\n",
      "\u001b[K     |████████████████████████████████| 152 kB 1.6 MB/s eta 0:00:01\n",
      "\u001b[?25hRequirement already satisfied: setuptools>=40.3.0 in /Users/suehiro/anaconda3/lib/python3.6/site-packages (from google-api-core[grpc]<3.0.0dev,>=1.26.0->google-cloud-speech) (52.0.0.post20210125)\n",
      "Collecting grpcio<2.0dev,>=1.29.0\n",
      "  Downloading grpcio-1.39.0-cp36-cp36m-macosx_10_10_x86_64.whl (3.9 MB)\n",
      "\u001b[K     |████████████████████████████████| 3.9 MB 1.3 MB/s eta 0:00:01\n",
      "\u001b[?25hCollecting rsa<5,>=3.1.4\n",
      "  Downloading rsa-4.7.2-py3-none-any.whl (34 kB)\n",
      "Collecting pyasn1-modules>=0.2.1\n",
      "  Downloading pyasn1_modules-0.2.8-py2.py3-none-any.whl (155 kB)\n",
      "\u001b[K     |████████████████████████████████| 155 kB 3.3 MB/s eta 0:00:01\n",
      "\u001b[?25hRequirement already satisfied: cachetools<5.0,>=2.0.0 in /Users/suehiro/anaconda3/lib/python3.6/site-packages (from google-auth<2.0dev,>=1.25.0->google-api-core[grpc]<3.0.0dev,>=1.26.0->google-cloud-speech) (4.2.2)\n",
      "Requirement already satisfied: pyyaml>=5.2 in /Users/suehiro/anaconda3/lib/python3.6/site-packages (from libcst>=0.2.5->google-cloud-speech) (5.4.1)\n",
      "Requirement already satisfied: dataclasses>=0.6.0 in /Users/suehiro/anaconda3/lib/python3.6/site-packages (from libcst>=0.2.5->google-cloud-speech) (0.8)\n",
      "Collecting typing-inspect>=0.4.0\n",
      "  Downloading typing_inspect-0.7.1-py3-none-any.whl (8.4 kB)\n",
      "Requirement already satisfied: typing-extensions>=3.7.4.2 in /Users/suehiro/anaconda3/lib/python3.6/site-packages (from libcst>=0.2.5->google-cloud-speech) (3.7.4.3)\n",
      "Requirement already satisfied: pyparsing>=2.0.2 in /Users/suehiro/anaconda3/lib/python3.6/site-packages (from packaging>=14.3->google-cloud-speech) (2.4.7)\n",
      "Collecting pyasn1<0.5.0,>=0.4.6\n",
      "  Downloading pyasn1-0.4.8-py2.py3-none-any.whl (77 kB)\n",
      "\u001b[K     |████████████████████████████████| 77 kB 2.3 MB/s eta 0:00:01\n",
      "\u001b[?25hRequirement already satisfied: urllib3<1.25,>=1.21.1 in /Users/suehiro/anaconda3/lib/python3.6/site-packages (from requests<3.0.0dev,>=2.18.0->google-api-core[grpc]<3.0.0dev,>=1.26.0->google-cloud-speech) (1.24.3)\n",
      "Requirement already satisfied: idna<2.8,>=2.5 in /Users/suehiro/anaconda3/lib/python3.6/site-packages (from requests<3.0.0dev,>=2.18.0->google-api-core[grpc]<3.0.0dev,>=1.26.0->google-cloud-speech) (2.7)\n",
      "Requirement already satisfied: certifi>=2017.4.17 in /Users/suehiro/anaconda3/lib/python3.6/site-packages (from requests<3.0.0dev,>=2.18.0->google-api-core[grpc]<3.0.0dev,>=1.26.0->google-cloud-speech) (2020.12.5)\n",
      "Requirement already satisfied: chardet<3.1.0,>=3.0.2 in /Users/suehiro/anaconda3/lib/python3.6/site-packages (from requests<3.0.0dev,>=2.18.0->google-api-core[grpc]<3.0.0dev,>=1.26.0->google-cloud-speech) (3.0.4)\n",
      "Collecting mypy-extensions>=0.3.0\n",
      "  Downloading mypy_extensions-0.4.3-py2.py3-none-any.whl (4.5 kB)\n",
      "Installing collected packages: pyasn1, rsa, pyasn1-modules, mypy-extensions, googleapis-common-protos, google-auth, typing-inspect, grpcio, google-api-core, proto-plus, libcst, google-cloud-speech\n",
      "  Attempting uninstall: grpcio\n",
      "    Found existing installation: grpcio 1.14.1\n",
      "    Uninstalling grpcio-1.14.1:\n",
      "      Successfully uninstalled grpcio-1.14.1\n",
      "\u001b[31mERROR: pip's dependency resolver does not currently take into account all the packages that are installed. This behaviour is the source of the following dependency conflicts.\n",
      "tensorflow 1.10.0 requires numpy<=1.14.5,>=1.13.3, but you have numpy 1.19.2 which is incompatible.\n",
      "tensorflow 1.10.0 requires setuptools<=39.1.0, but you have setuptools 52.0.0.post20210125 which is incompatible.\u001b[0m\n",
      "Successfully installed google-api-core-1.31.1 google-auth-1.34.0 google-cloud-speech-2.6.0 googleapis-common-protos-1.53.0 grpcio-1.39.0 libcst-0.3.19 mypy-extensions-0.4.3 proto-plus-1.19.0 pyasn1-0.4.8 pyasn1-modules-0.2.8 rsa-4.7.2 typing-inspect-0.7.1\n"
     ]
    }
   ],
   "source": [
    "!pip3 install --upgrade google-cloud-speech"
   ]
  },
  {
   "cell_type": "code",
   "execution_count": 2,
   "id": "taken-raleigh",
   "metadata": {},
   "outputs": [],
   "source": [
    "#環境変数\n",
    "import os\n",
    "os.environ['GOOGLE_APPLICATION_CREDENTIALS'] = 'seacret.json' "
   ]
  },
  {
   "cell_type": "code",
   "execution_count": 6,
   "id": "rolled-smile",
   "metadata": {},
   "outputs": [],
   "source": [
    "\n",
    "# Imports the Google Cloud client library\n",
    "from google.cloud import speech\n",
    "import io"
   ]
  },
  {
   "cell_type": "code",
   "execution_count": 4,
   "id": "biological-salad",
   "metadata": {},
   "outputs": [],
   "source": [
    "# Instantiates a client\n",
    "client = speech.SpeechClient()"
   ]
  },
  {
   "cell_type": "code",
   "execution_count": 7,
   "id": "solar-investment",
   "metadata": {},
   "outputs": [],
   "source": [
    "speech_file = 'OSR_us_000_0010_8k.wav'\n",
    "\n",
    "with io.open(speech_file, 'rb') as f:\n",
    "    content = f.read()"
   ]
  },
  {
   "cell_type": "code",
   "execution_count": 8,
   "id": "collectible-prince",
   "metadata": {},
   "outputs": [],
   "source": [
    "audio = speech.RecognitionAudio(content = content)\n",
    "\n",
    "config = speech.RecognitionConfig(\n",
    "    encoding=speech.RecognitionConfig.AudioEncoding.ENCODING_UNSPECIFIED,\n",
    "#    sample_rate_hertz=16000,\n",
    "    language_code=\"en-US\",\n",
    ")"
   ]
  },
  {
   "cell_type": "code",
   "execution_count": 11,
   "id": "alike-finish",
   "metadata": {},
   "outputs": [
    {
     "name": "stdout",
     "output_type": "stream",
     "text": [
      "認識結果: the Birch canoes slid on the smooth planks\n",
      "認識結果:  glue the sheet to the dark blue background\n",
      "認識結果:  it is easy to tell the death of a well\n",
      "認識結果:  these days a chicken leg is a verb dish\n",
      "認識結果:  rice is often served in round bowls\n",
      "認識結果:  the juice of lemons makes find punch\n",
      "認識結果:  the box was down beside the park truck\n",
      "認識結果:  the Hogs of food shop corn and garbage\n",
      "認識結果:  4 hours of study work Facebook\n",
      "認識結果:  a large size in stockings is hard to sell\n"
     ]
    }
   ],
   "source": [
    "# Detects speech in the audio file\n",
    "response = client.recognize(config=config, audio=audio)\n",
    "\n",
    "for result in response.results:\n",
    "    #print(result)\n",
    "    print(\"認識結果: {}\".format(result.alternatives[0].transcript))"
   ]
  },
  {
   "cell_type": "code",
   "execution_count": 12,
   "id": "saved-automation",
   "metadata": {},
   "outputs": [],
   "source": [
    "def transcribe_file(speech_file, lang='日本語'):\n",
    "    lang_code = {\n",
    "        '英語': 'en-US',\n",
    "        '日本語': 'ja-JP',\n",
    "        'スペイン語': 'es-ES'\n",
    "    }\n",
    "    client = speech.SpeechClient()\n",
    "\n",
    "\n",
    "    with io.open(speech_file, 'rb') as f:\n",
    "        content = f.read()\n",
    "\n",
    "    audio = speech.RecognitionAudio(content = content)\n",
    "\n",
    "    config = speech.RecognitionConfig(\n",
    "        encoding=speech.RecognitionConfig.AudioEncoding.ENCODING_UNSPECIFIED,\n",
    "    #    sample_rate_hertz=16000,\n",
    "        language_code = lang_code[lang]\n",
    "    )\n",
    "\n",
    "    response = client.recognize(config=config, audio=audio)\n",
    "\n",
    "    for result in response.results:\n",
    "        #print(result)\n",
    "        print(\"認識結果: {}\".format(result.alternatives[0].transcript))"
   ]
  },
  {
   "cell_type": "code",
   "execution_count": 13,
   "id": "fancy-short",
   "metadata": {},
   "outputs": [
    {
     "name": "stdout",
     "output_type": "stream",
     "text": [
      "認識結果: 皆さんこんにちは今2です本日も元気にやっていきましょう\n"
     ]
    }
   ],
   "source": [
    "transcribe_file('sample.wav')"
   ]
  },
  {
   "cell_type": "code",
   "execution_count": null,
   "id": "handled-press",
   "metadata": {},
   "outputs": [],
   "source": []
  }
 ],
 "metadata": {
  "kernelspec": {
   "display_name": "Python 3",
   "language": "python",
   "name": "python3"
  },
  "language_info": {
   "codemirror_mode": {
    "name": "ipython",
    "version": 3
   },
   "file_extension": ".py",
   "mimetype": "text/x-python",
   "name": "python",
   "nbconvert_exporter": "python",
   "pygments_lexer": "ipython3",
   "version": "3.6.13"
  }
 },
 "nbformat": 4,
 "nbformat_minor": 5
}
